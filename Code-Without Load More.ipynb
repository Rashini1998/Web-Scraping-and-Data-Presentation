{
 "cells": [
  {
   "cell_type": "markdown",
   "id": "354cd091-5c99-42d1-997d-3c1f2996745a",
   "metadata": {},
   "source": [
    "<h3><b>194044D - Assignment 01</b></h3>"
   ]
  },
  {
   "cell_type": "markdown",
   "id": "4cd1357d-b4c0-4bce-a87e-3ac473ad85ac",
   "metadata": {},
   "source": [
    "<h1><b>Data Extraction</b></h1>"
   ]
  },
  {
   "cell_type": "code",
   "execution_count": 80,
   "id": "56786a2b-4f4e-4deb-bd8b-8f15635a81c0",
   "metadata": {},
   "outputs": [
    {
     "name": "stdout",
     "output_type": "stream",
     "text": [
      "Requirement already satisfied: bs4 in c:\\users\\asus\\appdata\\local\\programs\\python\\python311\\lib\\site-packages (0.0.1)\n",
      "Requirement already satisfied: beautifulsoup4 in c:\\users\\asus\\appdata\\local\\programs\\python\\python311\\lib\\site-packages (from bs4) (4.12.2)\n",
      "Requirement already satisfied: soupsieve>1.2 in c:\\users\\asus\\appdata\\local\\programs\\python\\python311\\lib\\site-packages (from beautifulsoup4->bs4) (2.4.1)\n"
     ]
    }
   ],
   "source": [
    "!pip install bs4"
   ]
  },
  {
   "cell_type": "code",
   "execution_count": 81,
   "id": "171d9de2-4c1e-41ae-9da8-43be56c05334",
   "metadata": {},
   "outputs": [],
   "source": [
    "import urllib.request as urllib2\n",
    "from bs4 import BeautifulSoup"
   ]
  },
  {
   "cell_type": "code",
   "execution_count": 82,
   "id": "c993c080-f36c-477c-8c98-30a3214213d4",
   "metadata": {},
   "outputs": [],
   "source": [
    "# Access the URL and retrieve its content\n",
    "\n",
    "URLResponse = urllib2.urlopen('https://www.rottentomatoes.com/browse/movies_at_home/')\n",
    "html_doc = URLResponse.read()"
   ]
  },
  {
   "cell_type": "code",
   "execution_count": 83,
   "id": "afc87191-80fc-4f23-98cd-b42bcd16bdbe",
   "metadata": {},
   "outputs": [],
   "source": [
    "# Parse the HTML content using BeautifulSoup\n",
    "\n",
    "soup = BeautifulSoup(html_doc, 'html.parser')"
   ]
  },
  {
   "cell_type": "code",
   "execution_count": 84,
   "id": "8835bc33-8b32-4846-aded-cb9f83a7d155",
   "metadata": {},
   "outputs": [],
   "source": [
    "# Find and extract the relevant information for each movie\n",
    "movie_elements = soup.find_all(['a','div'], attrs={'data-track': 'scores', 'data-qa': 'discovery-media-list-item-caption'})\n",
    "\n",
    "movie_info = []\n",
    "\n",
    "for movie_element in movie_elements:\n",
    "    # Extract movie name\n",
    "    movie_name = movie_element.find('span', attrs={'data-qa': 'discovery-media-list-item-title'}).text.strip()\n",
    "\n",
    "    # Extract tomatometer value and audience score\n",
    "    score_pairs = movie_element.find('score-pairs')\n",
    "    tomatometer = score_pairs['criticsscore']\n",
    "    audience_score = score_pairs['audiencescore']\n",
    "    \n",
    "    movie_info.append({'Movie Name':  movie_name, 'Tomatometer Rating': tomatometer, 'Audience Score': audience_score})\n"
   ]
  },
  {
   "cell_type": "code",
   "execution_count": 85,
   "id": "c2851356-b2f4-4fed-8594-8088f04d0f4a",
   "metadata": {},
   "outputs": [
    {
     "name": "stdout",
     "output_type": "stream",
     "text": [
      "[{'Movie Name': 'Shane Gillis: Beautiful Dogs', 'Tomatometer Rating': '', 'Audience Score': ''}, {'Movie Name': 'Insidious Inferno', 'Tomatometer Rating': '', 'Audience Score': ''}, {'Movie Name': 'Thirst', 'Tomatometer Rating': '', 'Audience Score': ''}, {'Movie Name': 'Sirona', 'Tomatometer Rating': '', 'Audience Score': ''}, {'Movie Name': 'The Hanged Girl', 'Tomatometer Rating': '', 'Audience Score': ''}, {'Movie Name': 'Beyond the Grave', 'Tomatometer Rating': '', 'Audience Score': ''}, {'Movie Name': \"Scout's Honor: The Secret Files of the Boy Scouts of America\", 'Tomatometer Rating': '', 'Audience Score': ''}, {'Movie Name': 'What If', 'Tomatometer Rating': '', 'Audience Score': ''}, {'Movie Name': 'Good Boy', 'Tomatometer Rating': '100', 'Audience Score': ''}, {'Movie Name': 'Sitting in Bars with Cake', 'Tomatometer Rating': '', 'Audience Score': ''}, {'Movie Name': 'Shadow Island', 'Tomatometer Rating': '', 'Audience Score': ''}, {'Movie Name': '8 Found Dead', 'Tomatometer Rating': '', 'Audience Score': ''}, {'Movie Name': 'Joyce Carol Oates: A Body in the Service of Mind', 'Tomatometer Rating': '', 'Audience Score': ''}, {'Movie Name': 'King on Screen', 'Tomatometer Rating': '67', 'Audience Score': ''}, {'Movie Name': 'How to Date Billy Walsh', 'Tomatometer Rating': '', 'Audience Score': ''}, {'Movie Name': 'Blood Flower', 'Tomatometer Rating': '', 'Audience Score': ''}, {'Movie Name': 'Bundy Manor', 'Tomatometer Rating': '', 'Audience Score': ''}, {'Movie Name': 'Rosa Peral’s Tapes', 'Tomatometer Rating': '', 'Audience Score': ''}, {'Movie Name': 'A Film About Couples', 'Tomatometer Rating': '', 'Audience Score': ''}, {'Movie Name': 'Unidentified', 'Tomatometer Rating': '', 'Audience Score': ''}, {'Movie Name': 'You Are So Not Invited to My Bat Mitzvah', 'Tomatometer Rating': '97', 'Audience Score': '65'}, {'Movie Name': 'Indiana Jones and the Dial of Destiny', 'Tomatometer Rating': '69', 'Audience Score': '88'}, {'Movie Name': 'Past Lives', 'Tomatometer Rating': '98', 'Audience Score': '93'}, {'Movie Name': 'Teenage Mutant Ninja Turtles: Mutant Mayhem', 'Tomatometer Rating': '97', 'Audience Score': '90'}, {'Movie Name': 'Meg 2: The Trench', 'Tomatometer Rating': '29', 'Audience Score': '73'}, {'Movie Name': 'The Flash', 'Tomatometer Rating': '63', 'Audience Score': '83'}, {'Movie Name': 'No Hard Feelings', 'Tomatometer Rating': '70', 'Audience Score': '87'}, {'Movie Name': 'The Boogeyman', 'Tomatometer Rating': '61', 'Audience Score': '66'}]\n"
     ]
    }
   ],
   "source": [
    "# Print the first few movie entries as a sample\n",
    "\n",
    "print(movie_info[:500])"
   ]
  },
  {
   "cell_type": "markdown",
   "id": "267b1d00-bf05-4487-a9a3-444f8247cb79",
   "metadata": {},
   "source": [
    "<h1><b>Data Transformation</b></h1>"
   ]
  },
  {
   "cell_type": "code",
   "execution_count": 86,
   "id": "052a3181-8967-452d-b4b7-4800d57df813",
   "metadata": {},
   "outputs": [],
   "source": [
    "# We'll store it in a list of dictionaries, as shown above.\n",
    "# 'movie_info' list now contains all the scraped data.\n",
    "\n",
    "# We can access individual movie data like this:\n",
    "movie_data = movie_info[0]\n",
    "movie_name = movie_data['Movie Name']\n",
    "tomatometer_rating = movie_data['Tomatometer Rating']\n",
    "audience_score = movie_data['Audience Score']\n"
   ]
  },
  {
   "cell_type": "markdown",
   "id": "32ae16be-753c-4b5b-a410-b0e131b98489",
   "metadata": {},
   "source": [
    "<h1><b> Data Presentation</b></h1>"
   ]
  },
  {
   "cell_type": "code",
   "execution_count": 87,
   "id": "b5e24341-01d7-4853-be84-9eb0f4853714",
   "metadata": {},
   "outputs": [
    {
     "name": "stdout",
     "output_type": "stream",
     "text": [
      "Requirement already satisfied: tabulate in c:\\users\\asus\\appdata\\local\\programs\\python\\python311\\lib\\site-packages (0.9.0)\n"
     ]
    }
   ],
   "source": [
    "!pip install tabulate"
   ]
  },
  {
   "cell_type": "code",
   "execution_count": 88,
   "id": "062e592b-dfe0-463b-ab61-bd6cd11441c9",
   "metadata": {},
   "outputs": [
    {
     "name": "stdout",
     "output_type": "stream",
     "text": [
      "+--------------------------------------------------------------+----------------------+------------------+\n",
      "| Movie Name                                                   | Tomatometer Rating   | Audience Score   |\n",
      "+==============================================================+======================+==================+\n",
      "| Shane Gillis: Beautiful Dogs                                 |                      |                  |\n",
      "+--------------------------------------------------------------+----------------------+------------------+\n",
      "| Insidious Inferno                                            |                      |                  |\n",
      "+--------------------------------------------------------------+----------------------+------------------+\n",
      "| Thirst                                                       |                      |                  |\n",
      "+--------------------------------------------------------------+----------------------+------------------+\n",
      "| Sirona                                                       |                      |                  |\n",
      "+--------------------------------------------------------------+----------------------+------------------+\n",
      "| The Hanged Girl                                              |                      |                  |\n",
      "+--------------------------------------------------------------+----------------------+------------------+\n",
      "| Beyond the Grave                                             |                      |                  |\n",
      "+--------------------------------------------------------------+----------------------+------------------+\n",
      "| Scout's Honor: The Secret Files of the Boy Scouts of America |                      |                  |\n",
      "+--------------------------------------------------------------+----------------------+------------------+\n",
      "| What If                                                      |                      |                  |\n",
      "+--------------------------------------------------------------+----------------------+------------------+\n",
      "| Good Boy                                                     | 100                  |                  |\n",
      "+--------------------------------------------------------------+----------------------+------------------+\n",
      "| Sitting in Bars with Cake                                    |                      |                  |\n",
      "+--------------------------------------------------------------+----------------------+------------------+\n",
      "| Shadow Island                                                |                      |                  |\n",
      "+--------------------------------------------------------------+----------------------+------------------+\n",
      "| 8 Found Dead                                                 |                      |                  |\n",
      "+--------------------------------------------------------------+----------------------+------------------+\n",
      "| Joyce Carol Oates: A Body in the Service of Mind             |                      |                  |\n",
      "+--------------------------------------------------------------+----------------------+------------------+\n",
      "| King on Screen                                               | 67                   |                  |\n",
      "+--------------------------------------------------------------+----------------------+------------------+\n",
      "| How to Date Billy Walsh                                      |                      |                  |\n",
      "+--------------------------------------------------------------+----------------------+------------------+\n",
      "| Blood Flower                                                 |                      |                  |\n",
      "+--------------------------------------------------------------+----------------------+------------------+\n",
      "| Bundy Manor                                                  |                      |                  |\n",
      "+--------------------------------------------------------------+----------------------+------------------+\n",
      "| Rosa Peral’s Tapes                                           |                      |                  |\n",
      "+--------------------------------------------------------------+----------------------+------------------+\n",
      "| A Film About Couples                                         |                      |                  |\n",
      "+--------------------------------------------------------------+----------------------+------------------+\n",
      "| Unidentified                                                 |                      |                  |\n",
      "+--------------------------------------------------------------+----------------------+------------------+\n",
      "| You Are So Not Invited to My Bat Mitzvah                     | 97                   | 65               |\n",
      "+--------------------------------------------------------------+----------------------+------------------+\n",
      "| Indiana Jones and the Dial of Destiny                        | 69                   | 88               |\n",
      "+--------------------------------------------------------------+----------------------+------------------+\n",
      "| Past Lives                                                   | 98                   | 93               |\n",
      "+--------------------------------------------------------------+----------------------+------------------+\n",
      "| Teenage Mutant Ninja Turtles: Mutant Mayhem                  | 97                   | 90               |\n",
      "+--------------------------------------------------------------+----------------------+------------------+\n",
      "| Meg 2: The Trench                                            | 29                   | 73               |\n",
      "+--------------------------------------------------------------+----------------------+------------------+\n",
      "| The Flash                                                    | 63                   | 83               |\n",
      "+--------------------------------------------------------------+----------------------+------------------+\n",
      "| No Hard Feelings                                             | 70                   | 87               |\n",
      "+--------------------------------------------------------------+----------------------+------------------+\n",
      "| The Boogeyman                                                | 61                   | 66               |\n",
      "+--------------------------------------------------------------+----------------------+------------------+\n"
     ]
    }
   ],
   "source": [
    "import pandas as pd\n",
    "from tabulate import tabulate\n",
    "\n",
    "# Convert the list of dictionaries into a DataFrame\n",
    "df = pd.DataFrame(movie_info)\n",
    "\n",
    "# Set Pandas options to display all columns and rows without truncation\n",
    "pd.set_option('display.max_columns', None)\n",
    "pd.set_option('display.max_rows', None)\n",
    "pd.set_option('display.width', None)\n",
    "\n",
    "# Use tabulate to display the DataFrame in a tabular form\n",
    "print(tabulate(df, headers='keys', tablefmt='grid', showindex=False))\n",
    "\n"
   ]
  },
  {
   "cell_type": "code",
   "execution_count": null,
   "id": "6457d44a-a360-4f37-b89a-bdf5032f5cbf",
   "metadata": {},
   "outputs": [],
   "source": []
  }
 ],
 "metadata": {
  "kernelspec": {
   "display_name": "Python 3 (ipykernel)",
   "language": "python",
   "name": "python3"
  },
  "language_info": {
   "codemirror_mode": {
    "name": "ipython",
    "version": 3
   },
   "file_extension": ".py",
   "mimetype": "text/x-python",
   "name": "python",
   "nbconvert_exporter": "python",
   "pygments_lexer": "ipython3",
   "version": "3.11.0"
  }
 },
 "nbformat": 4,
 "nbformat_minor": 5
}
